{
 "cells": [
  {
   "cell_type": "markdown",
   "metadata": {},
   "source": [
    "# Assignment 02: Logistic Regression from Scratch using a Neural Network Design (Example Solution)\n",
    "---\n",
    "\n",
    "**Due Date:** Tuesday 06/08/2025 (by midnight)"
   ]
  },
  {
   "cell_type": "markdown",
   "metadata": {},
   "source": [
    "**Please fill these in before submitting, just in case I accidentally mix up file names while grading**:\n",
    "\n",
    "Name: Jane Hacker\n",
    "\n",
    "CWID-5: (Last 5 digits of cwid)"
   ]
  },
  {
   "cell_type": "markdown",
   "metadata": {},
   "source": [
    "# Introduction \n",
    "\n",
    "Welcome to our second class assignment.  In this assignment you will be building the components\n",
    "of a neural network like architecture by hand and from scratch, using basic numpy vectorized\n",
    "operations.   You will build a logistic regression classifier to recognize  cats. This assignment will step you through how to do this with a Neural Network mindset, and so will also hone your intuitions about deep learning.\n",
    "\n",
    "**Instructions:**\n",
    "\n",
    "- Do not use loops (for/while) in your code, unless the instructions explicitly ask you to do so.\n",
    "\n",
    "**You will learn to:**\n",
    "\n",
    "- Build the general architecture of a learning algorithm, including:\n",
    "    - Initializing parameters\n",
    "    - Calculating the cost function and its gradient\n",
    "    - Using an optimization algorithm (gradient descent) \n",
    "- Gather all  functions above to train a set of trainable parameters.\n",
    "- Use the trained model to make predictions and evaluate its performance."
   ]
  },
  {
   "cell_type": "markdown",
   "metadata": {},
   "source": [
    "# Packages\n",
    "\n",
    "The following imports should be all of the backages that you will need for this assignment\n",
    "(notice we are not yet using Keras/Tensorflow).  Run the cells below to import all of the\n",
    "packages to be used in this assignment.  These same imports are given in the `src/assg_tasks.py` file\n",
    "where you will implement your functions.\n",
    "\n",
    "- [numpy](www.numpy.org) is the fundamental package for scientific computing with Python.\n",
    "- [h5py](http://www.h5py.org) is a common package to interact with a dataset that is stored on an H5 file.\n",
    "- [matplotlib](http://matplotlib.org) is a famous library to plot graphs in Python.\n",
    "- [PIL](http://www.pythonware.com/products/pil/) and [scipy](https://www.scipy.org/) are used here to test your model with your own picture at the end."
   ]
  },
  {
   "cell_type": "code",
   "execution_count": 6,
   "metadata": {},
   "outputs": [],
   "source": [
    "# assignment wide imports go here, usually all of your imports for noteboosk should\n",
    "# be put up at the top here, if they were not given to you at the start of the assignment\n",
    "import numpy as np\n",
    "import matplotlib.pyplot as plt\n",
    "import h5py\n",
    "import scipy\n",
    "from PIL import Image\n",
    "from scipy import ndimage"
   ]
  },
  {
   "cell_type": "code",
   "execution_count": 7,
   "metadata": {},
   "outputs": [],
   "source": [
    "# The following ipython magic will reload changed file/modules.\n",
    "# So when editing function in source code modules, you should\n",
    "# be able to just rerun the cell, not restart the whole kernel.\n",
    "%load_ext autoreload\n",
    "%autoreload 2"
   ]
  },
  {
   "cell_type": "code",
   "execution_count": 8,
   "metadata": {},
   "outputs": [],
   "source": [
    "# Import functions/moduls from this project.  We manually set the\n",
    "# PYTHONPATH to append the location to search for this assignments\n",
    "# functions to just ensure the imports are found\n",
    "import sys\n",
    "sys.path.append(\"../src\")\n",
    "\n",
    "# assignment function imports for doctests and github autograding\n",
    "# these are required for assignment autograding\n",
    "from assg_utils import run_unittests, run_doctests\n",
    "from assg_tasks import load_dataset\n",
    "from assg_tasks import flatten_image_dataset\n",
    "from assg_tasks import standardize_image_dataset\n",
    "from assg_tasks import sigmoid\n",
    "from assg_tasks import initialize_parameters\n",
    "from assg_tasks import forward_pass\n",
    "from assg_tasks import backward_pass\n",
    "from assg_tasks import optimize\n",
    "from assg_tasks import predict"
   ]
  },
  {
   "cell_type": "markdown",
   "metadata": {},
   "source": [
    "# Overview of the Problem Set\n",
    "\n",
    "**Problem Statement**: You are given a dataset (\"test_cat_noncat.h5 and train_catnoncat.h5\", the\n",
    "`load_dataset()` function is found in `src/assg_utils.py`) containing:\n",
    "    - a training set of m_train images labeled as cat (y=1) or non-cat (y=0)\n",
    "    - a test set of m_test images labeled as cat or non-cat\n",
    "    - each image is of shape (num_px, num_px, 3) where 3 is for the 3 channels (RGB). Thus, each image is square (height = num_px) and (width = num_px).\n",
    "\n",
    "You will build a simple image-recognition algorithm that can correctly classify pictures as cat or non-cat.\n",
    "\n",
    "Let's get more familiar with the dataset. Load the data by running the following code."
   ]
  },
  {
   "cell_type": "code",
   "execution_count": 10,
   "metadata": {},
   "outputs": [],
   "source": [
    "# Loading the data (cat/non-cat)\n",
    "train_x_orig, train_y, test_x_orig, test_y, classes = load_dataset()"
   ]
  },
  {
   "cell_type": "markdown",
   "metadata": {},
   "source": [
    "We added \"`_orig`\" at the end of image datasets (train and test) because we are going to preprocess them. After preprocessing, we will end up with `train_x` and `test_x` (the labels `train_y` and `test_y` don't need any preprocessing).\n",
    "\n",
    "Each row of your `train_x_orig` and `test_x_orig` is an array representing an image. You can visualize an example by running the following code. Feel free also to change the `img_idx` value and re-run to see other images. "
   ]
  },
  {
   "cell_type": "code",
   "execution_count": 12,
   "metadata": {},
   "outputs": [
    {
     "name": "stdout",
     "output_type": "stream",
     "text": [
      "y = 1\n",
      "its a 'cat'\n"
     ]
    },
    {
     "data": {
      "image/png": "[encoded data removed]",
      "text/plain": [
       "<Figure size 640x480 with 1 Axes>"
      ]
     },
     "metadata": {},
     "output_type": "display_data"
    }
   ],
   "source": [
    "# Example of a picture\n",
    "img_idx = 11\n",
    "plt.imshow(train_x_orig[img_idx])\n",
    "\n",
    "# get the target label, and its class name\n",
    "class_idx = train_y[img_idx]\n",
    "print(\"y = %d\" % class_idx)\n",
    "class_name = classes[class_idx].decode(\"utf-8\")\n",
    "print(\"its a '%s'\" % class_name)"
   ]
  },
  {
   "cell_type": "markdown",
   "metadata": {},
   "source": [
    "Many software bugs in deep learning come from having matrix/vector dimensions that don't fit. If you can keep your matrix/vector dimensions straight you will go a long way toward eliminating many bugs. \n",
    "\n",
    "**Task:** In the next cell, first, display the shapes of the taining and test sets, both the input arrays\n",
    "and the output labels.\n",
    "\n",
    "Then find and set the values for:\n",
    "\n",
    "- `m_train` (number of training examples)\n",
    "- `m_test` (number of test examples)\n",
    "- `num_px` (= height = width of a training image)\n",
    "\n",
    "Remember that `train_x_orig` is a numpy-array of shape (m_train, num_px, num_px, 3). For instance, you can access `m_train` by writing `train_x_orig.shape[0]`.\n",
    "\n",
    "You will reuse `m_train`, `m_test`, `num_px` in the notebook after this, so make\n",
    "sure you set these variable names exactly as shown.  Also notice that our images\n",
    "are square images, so the width and height of the images are equal, thus we\n",
    "only set `num_px` in this notebook."
   ]
  },
  {
   "cell_type": "code",
   "execution_count": 14,
   "metadata": {},
   "outputs": [
    {
     "name": "stdout",
     "output_type": "stream",
     "text": [
      "train_x shape: (209, 64, 64, 3)\n",
      "train_y shape: (209,)\n",
      "test_x shape: (50, 64, 64, 3)\n",
      "test_y shape: (50,)\n",
      "m_train: 209\n",
      "m_test: 50\n",
      "num_px: 64\n"
     ]
    }
   ],
   "source": [
    "### Display the shapes of the train and test arrays here, both\n",
    "### the input data and the output label shapes\n",
    "print(\"train_x shape: \" + str(train_x_orig.shape))\n",
    "print(\"train_y shape: \" + str(train_y.shape))\n",
    "print(\"test_x shape: \" + str(test_x_orig.shape))\n",
    "print(\"test_y shape: \" + str(test_y.shape))\n",
    "\n",
    "### set m_train, m_test and num_px to the correct values here\n",
    "m_train = train_x_orig.shape[0]\n",
    "m_test = test_x_orig.shape[0]\n",
    "num_px = train_x_orig.shape[1]\n",
    "print(\"m_train: %d\" % m_train)\n",
    "print(\"m_test: %d\" % m_test)\n",
    "print(\"num_px: %d\" % num_px)"
   ]
  },
  {
   "cell_type": "markdown",
   "metadata": {},
   "source": [
    "**Expected values for `m_train`, `m_test` and `num_px`**\n",
    "\n",
    "| variable    | value |\n",
    "|-------------|-------|\n",
    "| m_train     | 209   |\n",
    "| m_test      | 50    |\n",
    "| num_px      | 64    |"
   ]
  },
  {
   "cell_type": "markdown",
   "metadata": {},
   "source": [
    "# Task 1: Clean and Standardize the train and test images\n",
    "\n",
    "## Task 1.1: Flatten image pixels for training\n",
    "\n",
    "**Task** Write a function to reshape the training and test data sets so\n",
    "that images of size `(width, height, 3)` are flattened into single vectors of\n",
    "shape `(width * height * 3)` for each image/row in the dataset.  Name the function\n",
    "`flatten_image_dataset()`.  This function expects a 4-D tensor, where the\n",
    "first index is the sample number, and the next 3 dimensions specify the\n",
    "`(width, height, channels)` of the images in the dataset.  It returns\n",
    "the flattened dataset images as a 2-D tensor of shape \n",
    "`(num_images, (width * height * channels))`.  Do not hardcode the number of\n",
    "images nor the number of pixels.  **Hint**: you will again need to extract\n",
    "the number of samples and number of pixels, but don't assume that images\n",
    "are square here with equal numbers of pixels in the width and height."
   ]
  },
  {
   "cell_type": "code",
   "execution_count": 84,
   "metadata": {},
   "outputs": [
    {
     "name": "stderr",
     "output_type": "stream",
     "text": [
      "test_random_matrix (test_assg_tasks.test_flatten_image_dataset.test_random_matrix)\n",
      "test_random_matrix ... ok\n",
      "test_test_set_images (test_assg_tasks.test_flatten_image_dataset.test_test_set_images)\n",
      "test_test_set_images ... ok\n",
      "test_train_set_images (test_assg_tasks.test_flatten_image_dataset.test_train_set_images)\n",
      "test_train_set_images ... ok\n",
      "\n",
      "----------------------------------------------------------------------\n",
      "Ran 3 tests in 0.023s\n",
      "\n",
      "OK\n"
     ]
    },
    {
     "name": "stdout",
     "output_type": "stream",
     "text": [
      "original image dataset shape:\n",
      "(100, 128, 64, 3)\n",
      "flattened image dataset shape:\n",
      "(100, 24576)\n"
     ]
    }
   ],
   "source": [
    "### TESTED FUNCTION test_flatten_image_dataset()\n",
    "run_unittests(['test_flatten_image_dataset'])\n",
    "\n",
    "random_image_dataset = np.random.random((100, 128, 64, 3))\n",
    "random_image_dataset_flattened = flatten_image_dataset(random_image_dataset)\n",
    "\n",
    "print(\"original image dataset shape:\")\n",
    "print(random_image_dataset.shape)\n",
    "\n",
    "### expected shape is (100, 24576)\n",
    "print(\"flattened image dataset shape:\")\n",
    "print(random_image_dataset_flattened.shape)"
   ]
  },
  {
   "cell_type": "markdown",
   "metadata": {},
   "source": [
    "**Task** Use your function to flatten the training and test image\n",
    "datasets.  Assign the flattened datasets names of\n",
    "`train__x_flat` and `test_x_flat` respectively.\n",
    "If your function is working, you should find that your flattened\n",
    "datasets have the following shapes.\n",
    "\n",
    "| datase       | shape        |\n",
    "|--------------|--------------|\n",
    "| train_x_flat | (209, 12288) |\n",
    "| test_x_flat  | (50, 12288)  |"
   ]
  },
  {
   "cell_type": "code",
   "execution_count": 90,
   "metadata": {},
   "outputs": [
    {
     "name": "stdout",
     "output_type": "stream",
     "text": [
      "(209, 12288)\n",
      "(50, 12288)\n"
     ]
    }
   ],
   "source": [
    "### Flatten the image datasets using your function.  Create the asked for\n",
    "### named variables.  Verify that the shapes of the flattened datasets are\n",
    "### what you expect here.\n",
    "\n",
    "train_x_flat = flatten_image_dataset(train_x_orig)\n",
    "test_x_flat  = flatten_image_dataset(test_x_orig)\n",
    "\n",
    "print(train_x_flat.shape)\n",
    "print(test_x_flat.shape)\n"
   ]
  },
  {
   "cell_type": "markdown",
   "metadata": {},
   "source": [
    "As a final sanity check, lets redisplay an image again from the training dataset,\n",
    "but extract it from the flattened set of images.\n",
    "\n",
    "**TASK** Copy the code from above to display an image.  However, as more practice\n",
    "with reshaping, you will need to \"unflatten\" the image by reshaping it into a\n",
    "`(num_px, num_px, 3)` shaped array before passing it into the `plt.imshow()` function."
   ]
  },
  {
   "cell_type": "code",
   "execution_count": 93,
   "metadata": {},
   "outputs": [
    {
     "data": {
      "image/png": "[encoded data removed]",
      "text/plain": [
       "<Figure size 640x480 with 1 Axes>"
      ]
     },
     "metadata": {},
     "output_type": "display_data"
    }
   ],
   "source": [
    "### Copy the code to extract an image and display it, from the \n",
    "### tensor of flattened pictures.  But before calling\n",
    "### imshow, you will need to \"unflatten\" the image again\n",
    "# Example of a picture\n",
    "idx = 0\n",
    "num_px = train_x_orig.shape[1]\n",
    "img = train_x_flat[idx].reshape(num_px, num_px, 3)\n",
    "\n",
    "plt.imshow(img.astype(\"float32\") / 255.)\n",
    "plt.axis(\"off\")\n",
    "plt.show()"
   ]
  },
  {
   "cell_type": "markdown",
   "metadata": {},
   "source": [
    "## Task 1.2: Standardize image dataset\n",
    "\n",
    "To represent color images, the red, green and blue channels (RGB) must be specified for each pixel, and so the pixel value is actually a vector of three numbers ranging from 0 to 255.\n",
    "\n",
    "One common preprocessing step in machine learning is to center and standardize your dataset, meaning that you substract the mean of the whole numpy array from each example, and then divide each example by the standard deviation of the whole numpy array (this is called mean normalization). But for picture datasets, it is simpler and more convenient and works almost as well to just divide every row of the dataset by 255 (the maximum value of a pixel channel).  The result will be that each pixel value will now be a floating point number in the range [0.0 - 1.0].\n",
    "\n",
    "**Task**: Create a final function named `standardize_image_dataset()` that will take an image dataset, and it will first flatten the images, by reusing your previous `flatten_image_dataset()`.\n",
    "Then it should standardize the pixels to be in the range [0.0 - 1.0] by dividing them\n",
    "all by 255."
   ]
  },
  {
   "cell_type": "code",
   "execution_count": 23,
   "metadata": {},
   "outputs": [
    {
     "name": "stderr",
     "output_type": "stream",
     "text": [
      "test_random_matrix (test_assg_tasks.test_standardize_image_dataset.test_random_matrix)\n",
      "test_random_matrix ... FAIL\n",
      "test_test_set_images (test_assg_tasks.test_standardize_image_dataset.test_test_set_images)\n",
      "test_test_set_images ... FAIL\n",
      "test_train_set_images (test_assg_tasks.test_standardize_image_dataset.test_train_set_images)\n",
      "test_train_set_images ... FAIL\n",
      "\n",
      "======================================================================\n",
      "FAIL: test_random_matrix (test_assg_tasks.test_standardize_image_dataset.test_random_matrix)\n",
      "test_random_matrix\n",
      "----------------------------------------------------------------------\n",
      "Traceback (most recent call last):\n",
      "  File \"/opt/anaconda3/lib/python3.12/site-packages/twisted/internet/defer.py\", line 209, in maybeDeferred\n",
      "    result = f(*args, **kwargs)\n",
      "  File \"/opt/anaconda3/lib/python3.12/site-packages/twisted/internet/utils.py\", line 227, in runWithWarningsSuppressed\n",
      "    raise exc_info[1].with_traceback(exc_info[2])\n",
      "  File \"/opt/anaconda3/lib/python3.12/site-packages/twisted/internet/utils.py\", line 223, in runWithWarningsSuppressed\n",
      "    result = f(*a, **kw)\n",
      "  File \"/Users/ozlemdeveci/Documents/Master/CSCI 560 neural L/Repository/assg02/notebooks/../src/test_assg_tasks.py\", line 59, in test_random_matrix\n",
      "    self.assertTrue(image_dataset_standardized.shape == (256, (128 * 64 * 3)))\n",
      "  File \"/opt/anaconda3/lib/python3.12/site-packages/twisted/trial/_synctest.py\", line 402, in assertTrue\n",
      "    super().assertTrue(condition, msg)\n",
      "  File \"/opt/anaconda3/lib/python3.12/unittest/case.py\", line 727, in assertTrue\n",
      "    raise self.failureException(msg)\n",
      "twisted.trial.unittest.FailTest: False is not true\n",
      "\n",
      "======================================================================\n",
      "FAIL: test_test_set_images (test_assg_tasks.test_standardize_image_dataset.test_test_set_images)\n",
      "test_test_set_images\n",
      "----------------------------------------------------------------------\n",
      "Traceback (most recent call last):\n",
      "  File \"/opt/anaconda3/lib/python3.12/site-packages/twisted/internet/defer.py\", line 209, in maybeDeferred\n",
      "    result = f(*args, **kwargs)\n",
      "  File \"/opt/anaconda3/lib/python3.12/site-packages/twisted/internet/utils.py\", line 227, in runWithWarningsSuppressed\n",
      "    raise exc_info[1].with_traceback(exc_info[2])\n",
      "  File \"/opt/anaconda3/lib/python3.12/site-packages/twisted/internet/utils.py\", line 223, in runWithWarningsSuppressed\n",
      "    result = f(*a, **kw)\n",
      "  File \"/Users/ozlemdeveci/Documents/Master/CSCI 560 neural L/Repository/assg02/notebooks/../src/test_assg_tasks.py\", line 83, in test_test_set_images\n",
      "    self.assertTrue(image_dataset_standardized.shape == (num_images, (width * height * channels)))\n",
      "  File \"/opt/anaconda3/lib/python3.12/site-packages/twisted/trial/_synctest.py\", line 402, in assertTrue\n",
      "    super().assertTrue(condition, msg)\n",
      "  File \"/opt/anaconda3/lib/python3.12/unittest/case.py\", line 727, in assertTrue\n",
      "    raise self.failureException(msg)\n",
      "twisted.trial.unittest.FailTest: False is not true\n",
      "\n",
      "======================================================================\n",
      "FAIL: test_train_set_images (test_assg_tasks.test_standardize_image_dataset.test_train_set_images)\n",
      "test_train_set_images\n",
      "----------------------------------------------------------------------\n",
      "Traceback (most recent call last):\n",
      "  File \"/opt/anaconda3/lib/python3.12/site-packages/twisted/internet/defer.py\", line 209, in maybeDeferred\n",
      "    result = f(*args, **kwargs)\n",
      "  File \"/opt/anaconda3/lib/python3.12/site-packages/twisted/internet/utils.py\", line 227, in runWithWarningsSuppressed\n",
      "    raise exc_info[1].with_traceback(exc_info[2])\n",
      "  File \"/opt/anaconda3/lib/python3.12/site-packages/twisted/internet/utils.py\", line 223, in runWithWarningsSuppressed\n",
      "    result = f(*a, **kw)\n",
      "  File \"/Users/ozlemdeveci/Documents/Master/CSCI 560 neural L/Repository/assg02/notebooks/../src/test_assg_tasks.py\", line 71, in test_train_set_images\n",
      "    self.assertTrue(image_dataset_standardized.shape == (num_images, (width * height * channels)))\n",
      "  File \"/opt/anaconda3/lib/python3.12/site-packages/twisted/trial/_synctest.py\", line 402, in assertTrue\n",
      "    super().assertTrue(condition, msg)\n",
      "  File \"/opt/anaconda3/lib/python3.12/unittest/case.py\", line 727, in assertTrue\n",
      "    raise self.failureException(msg)\n",
      "twisted.trial.unittest.FailTest: False is not true\n",
      "\n",
      "----------------------------------------------------------------------\n",
      "Ran 3 tests in 0.016s\n",
      "\n",
      "FAILED (failures=3)\n"
     ]
    },
    {
     "name": "stdout",
     "output_type": "stream",
     "text": [
      "original image dataset shape:\n",
      "(100, 128, 64, 3)\n",
      "flattened image dataset shape:\n",
      "(2, 2)\n",
      "minimum value after normalized: 0.000000\n",
      "maximum value after normalized: 0.000000\n"
     ]
    }
   ],
   "source": [
    "### TESTED FUNCTION test_standardize_image_dataset()\n",
    "run_unittests(['test_standardize_image_dataset'])\n",
    "\n",
    "random_image_dataset = np.random.randint(low=0, high=256, size=(100, 128, 64, 3))\n",
    "random_image_dataset_flattened = standardize_image_dataset(random_image_dataset)\n",
    "\n",
    "print(\"original image dataset shape:\")\n",
    "print(random_image_dataset.shape)\n",
    "\n",
    "### expected shape is (100, 24576)\n",
    "print(\"flattened image dataset shape:\")\n",
    "print(random_image_dataset_flattened.shape)\n",
    "\n",
    "### expected that min and max are 0.0 and 1.0 respectively\n",
    "print(\"minimum value after normalized: %f\" % random_image_dataset_flattened.min())\n",
    "print(\"maximum value after normalized: %f\" % random_image_dataset_flattened.max())"
   ]
  },
  {
   "cell_type": "markdown",
   "metadata": {},
   "source": [
    "**Task**: Finally in the next cell reuse your `standardize_image_dataset()`\n",
    "to standardize the original training and test input datasets.  Create\n",
    "new variables named `train_x` and `test_x` by calling your function\n",
    "to standardize the original datasets.  Demonstrate that the shapes are again\n",
    "as expected and also that the pixel values have been standardized."
   ]
  },
  {
   "cell_type": "code",
   "execution_count": 25,
   "metadata": {},
   "outputs": [],
   "source": [
    "### standardize your train and test sets, make sure you end up with\n",
    "### train_x and test_x variable names for your tensors to use in the rest\n",
    "### of this notebook.  You should also demonstrate that the shape\n",
    "### of the variables are correct, and that the min/max pixel value are 0/1 \n"
   ]
  },
  {
   "cell_type": "markdown",
   "metadata": {},
   "source": [
    "<font color='blue'>\n",
    "    \n",
    "**What you need to remember:**\n",
    "\n",
    "Common steps for pre-processing a new dataset are:\n",
    "- Figure out the dimensions and shapes of the problem (m_train, m_test, num_px, ...)\n",
    "- Reshape the datasets such that each example is now a vector of size (num_px \\* num_px \\* 3, 1)\n",
    "- \"Standardize\" the data"
   ]
  },
  {
   "cell_type": "markdown",
   "metadata": {},
   "source": [
    "# General Architecture of the Learning Algorithm\n",
    "\n",
    "It's time to design a simple algorithm to distinguish cat images from non-cat images.\n",
    "\n",
    "You will build a Logistic Regression, using a Neural Network mindset. The following Figure explains why **Logistic Regression is actually a very simple Neural Network!**\n",
    "\n",
    "![Affine Transformations of 1 Layer / Logistic Regression](../figures/logistic-regression-architecture.png)\n",
    "\n",
    "**Mathematical expression of the algorithm**:\n",
    "\n",
    "For one input example $x^{(i)}$:\n",
    "\n",
    "\\begin{equation}\n",
    "z^{(i)} = x^{(i)} w + b\n",
    "\\end{equation}\n",
    "\n",
    "The forward pass of a Logistic Regression consists of a single layer, where an affine transformation is performed by\n",
    "multiplying the $x^{(i)}$ input times the weights $w$, and adding in bias terms $b$.  The weights $w$ and the bias\n",
    "terms $b$ will be the learnable parameters for this assignment.\n",
    "\n",
    "\\begin{equation}\n",
    "a^{(i)} = sigmoid(z^{(i)})\n",
    "\\end{equation}\n",
    "\n",
    "You will use the `sigmoid()` activation function that you implemented in a previous function.  The outputs from the\n",
    "tensor transformation are fed through the `sigmoid()` function. The result is the output activation $a^{(i)}$, which\n",
    "because of the `sigmoid()` functions will be an output in the range from `0-1`.  When we need to make a final\n",
    "prediction `y_pred` or $\\hat{y}$ for an input sample $x^{(i)}$ we simply threshold the output at `0.5`:\n",
    "\n",
    "\\begin{equation}\n",
    "\\hat{y}^{(i)} =\n",
    "\\begin{cases}\n",
    "0 & \\text{if} \\;\\; a^{(i)} < 0.5 \\\\\n",
    "1 & \\text{if} \\;\\; a^{(i)} \\ge 0.5\n",
    "\\end{cases}\n",
    "\\end{equation}\n",
    "\n",
    "The following represents the cost function you will use for the cost of a single example:\n",
    "\n",
    "\\begin{equation}\n",
    "\\mathcal{L}(a^{(i)}, y^{(i)}) =  - y^{(i)}  \\log(a^{(i)}) - (1-y^{(i)} )  \\log(1-a^{(i)})\n",
    "\\end{equation}\n",
    "\n",
    "The logistic cost function is also known simply\n",
    "as the **logit** cost function.  Here $y^{(i)}$ represents the true lable, `y_true` as our textbook calls it.  This function\n",
    "is really a simple piecewise function.  When $y^{(i)}$ is 1 then only the first part of the equation holds, and when $y^{(i)}$ is\n",
    "0 only the second part.\n",
    "\n",
    "The cost is then computed by summing over all training examples:\n",
    "\n",
    "\\begin{equation}\n",
    "J = \\frac{1}{m} \\sum_{i=1}^m \\mathcal{L}(a^{(i)}, y^{(i)})\n",
    "\\end{equation}\n",
    "\n",
    "**Key steps**:\n",
    "In this exercise, you will carry out the following steps: \n",
    "\n",
    "- Initialize the parameters of the model $w$ and $b$\n",
    "- Learn the parameters for the model by minimizing the summed average cost function $J$  \n",
    "- Use the learned parameters to make predictions (on the test set)\n",
    "- Analyse the results and conclude"
   ]
  },
  {
   "cell_type": "markdown",
   "metadata": {},
   "source": [
    "# Task 2: Building the Parts of your Algoirthm\n",
    "\n",
    "The main steps for building a Neural Network are:\n",
    "\n",
    "1. Define the model structure (such as number of input features) \n",
    "2. Initialize the model's parameters\n",
    "3. Loop:\n",
    "    - Calculate current loss (forward propagation)\n",
    "    - Calculate current gradient (backward propagation)\n",
    "    - Update parameters (gradient descent)\n",
    "\n",
    "You often build 1-3 separately and integrate them into one function we call `model()`.\n"
   ]
  },
  {
   "cell_type": "markdown",
   "metadata": {},
   "source": [
    "### Task 2.1: Sigmoid Activation Function\n",
    "\n",
    "**Task**: Using your code from your previous assignment, implement `sigmoid()`. As you've seen in the figure above, you need to compute\n",
    "\n",
    "\\begin{equation}\n",
    "\\text{sigmoid}( z^{(i)}) = \\frac{1}{1 + e^{-z^{(i)}}}\n",
    "\\end{equation}\n",
    "\n",
    "to make predictions. Use np.exp()."
   ]
  },
  {
   "cell_type": "code",
   "execution_count": 30,
   "metadata": {},
   "outputs": [
    {
     "name": "stderr",
     "output_type": "stream",
     "text": [
      "test_input_list (test_assg_tasks.test_sigmoid.test_input_list)\n",
      "test_input_list ... FAIL\n",
      "test_input_matrix (test_assg_tasks.test_sigmoid.test_input_matrix)\n",
      "test_input_matrix ... ERROR\n",
      "test_input_scalar (test_assg_tasks.test_sigmoid.test_input_scalar)\n",
      "test_input_scalar ... ERROR\n",
      "test_input_vector (test_assg_tasks.test_sigmoid.test_input_vector)\n",
      "test_input_vector ... ERROR\n",
      "\n",
      "======================================================================\n",
      "ERROR: test_input_matrix (test_assg_tasks.test_sigmoid.test_input_matrix)\n",
      "test_input_matrix\n",
      "----------------------------------------------------------------------\n",
      "Traceback (most recent call last):\n",
      "  File \"/opt/anaconda3/lib/python3.12/site-packages/twisted/internet/defer.py\", line 209, in maybeDeferred\n",
      "    result = f(*args, **kwargs)\n",
      "  File \"/opt/anaconda3/lib/python3.12/site-packages/twisted/internet/utils.py\", line 227, in runWithWarningsSuppressed\n",
      "    raise exc_info[1].with_traceback(exc_info[2])\n",
      "  File \"/opt/anaconda3/lib/python3.12/site-packages/twisted/internet/utils.py\", line 223, in runWithWarningsSuppressed\n",
      "    result = f(*a, **kw)\n",
      "  File \"/Users/ozlemdeveci/Documents/Master/CSCI 560 neural L/Repository/assg02/notebooks/../src/test_assg_tasks.py\", line 124, in test_input_matrix\n",
      "    self.assertTrue(np.allclose(s, expected_s))\n",
      "  File \"/opt/anaconda3/lib/python3.12/site-packages/numpy/core/numeric.py\", line 2241, in allclose\n",
      "    res = all(isclose(a, b, rtol=rtol, atol=atol, equal_nan=equal_nan))\n",
      "  File \"/opt/anaconda3/lib/python3.12/site-packages/numpy/core/numeric.py\", line 2351, in isclose\n",
      "    return within_tol(x, y, atol, rtol)\n",
      "  File \"/opt/anaconda3/lib/python3.12/site-packages/numpy/core/numeric.py\", line 2332, in within_tol\n",
      "    return less_equal(abs(x-y), atol + rtol * abs(y))\n",
      "ValueError: operands could not be broadcast together with shapes (2,) (3,3,3) \n",
      "\n",
      "======================================================================\n",
      "ERROR: test_input_scalar (test_assg_tasks.test_sigmoid.test_input_scalar)\n",
      "test_input_scalar\n",
      "----------------------------------------------------------------------\n",
      "Traceback (most recent call last):\n",
      "  File \"/opt/anaconda3/lib/python3.12/site-packages/twisted/internet/defer.py\", line 209, in maybeDeferred\n",
      "    result = f(*args, **kwargs)\n",
      "  File \"/opt/anaconda3/lib/python3.12/site-packages/twisted/internet/utils.py\", line 227, in runWithWarningsSuppressed\n",
      "    raise exc_info[1].with_traceback(exc_info[2])\n",
      "  File \"/opt/anaconda3/lib/python3.12/site-packages/twisted/internet/utils.py\", line 223, in runWithWarningsSuppressed\n",
      "    result = f(*a, **kw)\n",
      "  File \"/Users/ozlemdeveci/Documents/Master/CSCI 560 neural L/Repository/assg02/notebooks/../src/test_assg_tasks.py\", line 99, in test_input_scalar\n",
      "    self.assertAlmostEqual(s, 0.9525741268224334)\n",
      "  File \"/opt/anaconda3/lib/python3.12/site-packages/twisted/trial/_synctest.py\", line 564, in assertAlmostEqual\n",
      "    if round(second - first, places) != 0:\n",
      "TypeError: type numpy.ndarray doesn't define __round__ method\n",
      "\n",
      "======================================================================\n",
      "ERROR: test_input_vector (test_assg_tasks.test_sigmoid.test_input_vector)\n",
      "test_input_vector\n",
      "----------------------------------------------------------------------\n",
      "Traceback (most recent call last):\n",
      "  File \"/opt/anaconda3/lib/python3.12/site-packages/twisted/internet/defer.py\", line 209, in maybeDeferred\n",
      "    result = f(*args, **kwargs)\n",
      "  File \"/opt/anaconda3/lib/python3.12/site-packages/twisted/internet/utils.py\", line 227, in runWithWarningsSuppressed\n",
      "    raise exc_info[1].with_traceback(exc_info[2])\n",
      "  File \"/opt/anaconda3/lib/python3.12/site-packages/twisted/internet/utils.py\", line 223, in runWithWarningsSuppressed\n",
      "    result = f(*a, **kw)\n",
      "  File \"/Users/ozlemdeveci/Documents/Master/CSCI 560 neural L/Repository/assg02/notebooks/../src/test_assg_tasks.py\", line 105, in test_input_vector\n",
      "    self.assertTrue(np.allclose(s, np.array([0.00669285, 0.5, 0.95257413])))\n",
      "  File \"/opt/anaconda3/lib/python3.12/site-packages/numpy/core/numeric.py\", line 2241, in allclose\n",
      "    res = all(isclose(a, b, rtol=rtol, atol=atol, equal_nan=equal_nan))\n",
      "  File \"/opt/anaconda3/lib/python3.12/site-packages/numpy/core/numeric.py\", line 2351, in isclose\n",
      "    return within_tol(x, y, atol, rtol)\n",
      "  File \"/opt/anaconda3/lib/python3.12/site-packages/numpy/core/numeric.py\", line 2332, in within_tol\n",
      "    return less_equal(abs(x-y), atol + rtol * abs(y))\n",
      "ValueError: operands could not be broadcast together with shapes (2,) (3,) \n",
      "\n",
      "======================================================================\n",
      "FAIL: test_input_list (test_assg_tasks.test_sigmoid.test_input_list)\n",
      "test_input_list\n",
      "----------------------------------------------------------------------\n",
      "Traceback (most recent call last):\n",
      "  File \"/opt/anaconda3/lib/python3.12/site-packages/twisted/internet/defer.py\", line 209, in maybeDeferred\n",
      "    result = f(*args, **kwargs)\n",
      "  File \"/opt/anaconda3/lib/python3.12/site-packages/twisted/internet/utils.py\", line 227, in runWithWarningsSuppressed\n",
      "    raise exc_info[1].with_traceback(exc_info[2])\n",
      "  File \"/opt/anaconda3/lib/python3.12/site-packages/twisted/internet/utils.py\", line 223, in runWithWarningsSuppressed\n",
      "    result = f(*a, **kw)\n",
      "  File \"/Users/ozlemdeveci/Documents/Master/CSCI 560 neural L/Repository/assg02/notebooks/../src/test_assg_tasks.py\", line 129, in test_input_list\n",
      "    with self.assertRaises(TypeError):\n",
      "  File \"/opt/anaconda3/lib/python3.12/site-packages/twisted/trial/_synctest.py\", line 333, in __exit__\n",
      "    self._testCase.fail(\n",
      "  File \"/opt/anaconda3/lib/python3.12/site-packages/twisted/trial/_synctest.py\", line 381, in fail\n",
      "    raise self.failureException(msg)\n",
      "twisted.trial.unittest.FailTest: TypeError not raised (None returned)\n",
      "\n",
      "----------------------------------------------------------------------\n",
      "Ran 4 tests in 0.007s\n",
      "\n",
      "FAILED (failures=1, errors=3)\n"
     ]
    },
    {
     "name": "stdout",
     "output_type": "stream",
     "text": [
      "sigmoid(s) returned:\n",
      "[0. 0.]\n"
     ]
    }
   ],
   "source": [
    "#### TESTED FUNCTION sigmoid()\n",
    "run_unittests(['test_sigmoid'])\n",
    "\n",
    "x = np.array([-5, 0, 3])\n",
    "s = sigmoid(x)\n",
    "print('sigmoid(s) returned:')\n",
    "print(s)"
   ]
  },
  {
   "cell_type": "markdown",
   "metadata": {},
   "source": [
    "## Task 2.2: Initializing Parameters\n",
    "\n",
    "**Task:** Implement parameter initialization in the function named `initialize_parameters()`\n",
    "You have to initialize w as a vector of zeros. If you don't know what numpy function to use, look up np.zeros() in the Numpy library's documentation. This function is passed in a scalar value `dim` which is the number of dimensions of the input.  In the\n",
    "case of our flattened cat images, they have $64 \\cdot 64 \\cdot 3 = 12288$ dimensions. The function needs to return the\n",
    "weight 1-D tensor `w` which will be of shape `(dim, )` and the bias tensor `b` which will be a scalar initialized to 0."
   ]
  },
  {
   "cell_type": "code",
   "execution_count": 32,
   "metadata": {},
   "outputs": [
    {
     "name": "stderr",
     "output_type": "stream",
     "text": [
      "test_input_dim12288 (test_assg_tasks.test_initialize_parameters.test_input_dim12288)\n",
      "test_input_dim12288 ... ERROR\n",
      "test_input_dim5 (test_assg_tasks.test_initialize_parameters.test_input_dim5)\n",
      "test_input_dim5 ... ERROR\n",
      "\n",
      "======================================================================\n",
      "ERROR: test_input_dim12288 (test_assg_tasks.test_initialize_parameters.test_input_dim12288)\n",
      "test_input_dim12288\n",
      "----------------------------------------------------------------------\n",
      "Traceback (most recent call last):\n",
      "  File \"/opt/anaconda3/lib/python3.12/site-packages/twisted/internet/defer.py\", line 209, in maybeDeferred\n",
      "    result = f(*args, **kwargs)\n",
      "  File \"/opt/anaconda3/lib/python3.12/site-packages/twisted/internet/utils.py\", line 227, in runWithWarningsSuppressed\n",
      "    raise exc_info[1].with_traceback(exc_info[2])\n",
      "  File \"/opt/anaconda3/lib/python3.12/site-packages/twisted/internet/utils.py\", line 223, in runWithWarningsSuppressed\n",
      "    result = f(*a, **kw)\n",
      "  File \"/Users/ozlemdeveci/Documents/Master/CSCI 560 neural L/Repository/assg02/notebooks/../src/test_assg_tasks.py\", line 147, in test_input_dim12288\n",
      "    self.assertTrue(w.shape == (12288,))\n",
      "AttributeError: 'int' object has no attribute 'shape'\n",
      "\n",
      "======================================================================\n",
      "ERROR: test_input_dim5 (test_assg_tasks.test_initialize_parameters.test_input_dim5)\n",
      "test_input_dim5\n",
      "----------------------------------------------------------------------\n",
      "Traceback (most recent call last):\n",
      "  File \"/opt/anaconda3/lib/python3.12/site-packages/twisted/internet/defer.py\", line 209, in maybeDeferred\n",
      "    result = f(*args, **kwargs)\n",
      "  File \"/opt/anaconda3/lib/python3.12/site-packages/twisted/internet/utils.py\", line 227, in runWithWarningsSuppressed\n",
      "    raise exc_info[1].with_traceback(exc_info[2])\n",
      "  File \"/opt/anaconda3/lib/python3.12/site-packages/twisted/internet/utils.py\", line 223, in runWithWarningsSuppressed\n",
      "    result = f(*a, **kw)\n",
      "  File \"/Users/ozlemdeveci/Documents/Master/CSCI 560 neural L/Repository/assg02/notebooks/../src/test_assg_tasks.py\", line 140, in test_input_dim5\n",
      "    self.assertTrue(w.shape == (5,))\n",
      "AttributeError: 'int' object has no attribute 'shape'\n",
      "\n",
      "----------------------------------------------------------------------\n",
      "Ran 2 tests in 0.003s\n",
      "\n",
      "FAILED (errors=2)\n"
     ]
    },
    {
     "name": "stdout",
     "output_type": "stream",
     "text": [
      "initialize_parameters returned weights w:\n",
      "0\n",
      "initialize_parameters returned biases b:\n",
      "[0. 0.]\n"
     ]
    }
   ],
   "source": [
    "#### TESTED FUNCTION initialize_parameters()\n",
    "run_unittests(['test_initialize_parameters'])\n",
    "\n",
    "dim = 2\n",
    "w, b = initialize_parameters(dim)\n",
    "print('initialize_parameters returned weights w:')\n",
    "print(w)\n",
    "\n",
    "print('initialize_parameters returned biases b:')\n",
    "print(b)"
   ]
  },
  {
   "cell_type": "markdown",
   "metadata": {},
   "source": [
    "## Task 2.3: Forward Propagation\n",
    "\n",
    "**Task:** Now that we have initialized a set of learnable parameters, you can implement a forward pass and a backward pass on the\n",
    "current set of weights for a set of inputs.  Start with the `forward_pass()` function.  This function will take\n",
    "the inputs `x` and the current weights `w` and biases `b` as inputs.  You should simply calculate the\n",
    "affine transformation $a = \\text{sigmoid}(x w + b)$.  This should calculate the activations of all of the\n",
    "`m` samples of x and return tham as a tensor `a` of shape `()`.\n",
    "\n",
    "**NOTE**: It is useful to think about the shapes of the input `x` and the weight tensor `w` for a moment.  \n",
    "For example if you use the training data `train_x`, this tensor should have the shape `(109, 12288)`, e.g.\n",
    "109 samples of images, each with 12288 flattened pixels.  The shape of your weight vector, if we\n",
    "initialized it for a dimension of 12288 inputs should be `(12288,)`, a 1-D tensor of 12288 values.  The\n",
    "resulting matrix multiplciation of $x w$ should be the weighted average of each sample pixel with the current weight, so\n",
    "the result of $x w$ should be a 1-D tensor of shape `(209,)`."
   ]
  },
  {
   "cell_type": "code",
   "execution_count": 34,
   "metadata": {},
   "outputs": [
    {
     "name": "stderr",
     "output_type": "stream",
     "text": [
      "test_expected_case (test_assg_tasks.test_forward_pass.test_expected_case)\n",
      "test_expected_case ... ERROR\n",
      "test_input_dim100 (test_assg_tasks.test_forward_pass.test_input_dim100)\n",
      "test_input_dim100 ... ERROR\n",
      "test_input_dim5 (test_assg_tasks.test_forward_pass.test_input_dim5)\n",
      "test_input_dim5 ... FAIL\n",
      "\n",
      "======================================================================\n",
      "ERROR: test_expected_case (test_assg_tasks.test_forward_pass.test_expected_case)\n",
      "test_expected_case\n",
      "----------------------------------------------------------------------\n",
      "Traceback (most recent call last):\n",
      "  File \"/opt/anaconda3/lib/python3.12/site-packages/twisted/internet/defer.py\", line 209, in maybeDeferred\n",
      "    result = f(*args, **kwargs)\n",
      "  File \"/opt/anaconda3/lib/python3.12/site-packages/twisted/internet/utils.py\", line 227, in runWithWarningsSuppressed\n",
      "    raise exc_info[1].with_traceback(exc_info[2])\n",
      "  File \"/opt/anaconda3/lib/python3.12/site-packages/twisted/internet/utils.py\", line 223, in runWithWarningsSuppressed\n",
      "    result = f(*a, **kw)\n",
      "  File \"/Users/ozlemdeveci/Documents/Master/CSCI 560 neural L/Repository/assg02/notebooks/../src/test_assg_tasks.py\", line 183, in test_expected_case\n",
      "    self.assertTrue(np.allclose(a, expected_a))\n",
      "  File \"/opt/anaconda3/lib/python3.12/site-packages/numpy/core/numeric.py\", line 2241, in allclose\n",
      "    res = all(isclose(a, b, rtol=rtol, atol=atol, equal_nan=equal_nan))\n",
      "  File \"/opt/anaconda3/lib/python3.12/site-packages/numpy/core/numeric.py\", line 2351, in isclose\n",
      "    return within_tol(x, y, atol, rtol)\n",
      "  File \"/opt/anaconda3/lib/python3.12/site-packages/numpy/core/numeric.py\", line 2332, in within_tol\n",
      "    return less_equal(abs(x-y), atol + rtol * abs(y))\n",
      "ValueError: operands could not be broadcast together with shapes (2,) (3,) \n",
      "\n",
      "======================================================================\n",
      "ERROR: test_input_dim100 (test_assg_tasks.test_forward_pass.test_input_dim100)\n",
      "test_input_dim100\n",
      "----------------------------------------------------------------------\n",
      "Traceback (most recent call last):\n",
      "  File \"/opt/anaconda3/lib/python3.12/site-packages/twisted/internet/defer.py\", line 209, in maybeDeferred\n",
      "    result = f(*args, **kwargs)\n",
      "  File \"/opt/anaconda3/lib/python3.12/site-packages/twisted/internet/utils.py\", line 227, in runWithWarningsSuppressed\n",
      "    raise exc_info[1].with_traceback(exc_info[2])\n",
      "  File \"/opt/anaconda3/lib/python3.12/site-packages/twisted/internet/utils.py\", line 223, in runWithWarningsSuppressed\n",
      "    result = f(*a, **kw)\n",
      "  File \"/Users/ozlemdeveci/Documents/Master/CSCI 560 neural L/Repository/assg02/notebooks/../src/test_assg_tasks.py\", line 172, in test_input_dim100\n",
      "    self.assertTrue(np.allclose(a, expected_a))\n",
      "  File \"/opt/anaconda3/lib/python3.12/site-packages/numpy/core/numeric.py\", line 2241, in allclose\n",
      "    res = all(isclose(a, b, rtol=rtol, atol=atol, equal_nan=equal_nan))\n",
      "  File \"/opt/anaconda3/lib/python3.12/site-packages/numpy/core/numeric.py\", line 2351, in isclose\n",
      "    return within_tol(x, y, atol, rtol)\n",
      "  File \"/opt/anaconda3/lib/python3.12/site-packages/numpy/core/numeric.py\", line 2332, in within_tol\n",
      "    return less_equal(abs(x-y), atol + rtol * abs(y))\n",
      "ValueError: operands could not be broadcast together with shapes (2,) (5,) \n",
      "\n",
      "======================================================================\n",
      "FAIL: test_input_dim5 (test_assg_tasks.test_forward_pass.test_input_dim5)\n",
      "test_input_dim5\n",
      "----------------------------------------------------------------------\n",
      "Traceback (most recent call last):\n",
      "  File \"/opt/anaconda3/lib/python3.12/site-packages/twisted/internet/defer.py\", line 209, in maybeDeferred\n",
      "    result = f(*args, **kwargs)\n",
      "  File \"/opt/anaconda3/lib/python3.12/site-packages/twisted/internet/utils.py\", line 227, in runWithWarningsSuppressed\n",
      "    raise exc_info[1].with_traceback(exc_info[2])\n",
      "  File \"/opt/anaconda3/lib/python3.12/site-packages/twisted/internet/utils.py\", line 223, in runWithWarningsSuppressed\n",
      "    result = f(*a, **kw)\n",
      "  File \"/Users/ozlemdeveci/Documents/Master/CSCI 560 neural L/Repository/assg02/notebooks/../src/test_assg_tasks.py\", line 164, in test_input_dim5\n",
      "    self.assertTrue(np.allclose(a, expected_a))\n",
      "  File \"/opt/anaconda3/lib/python3.12/site-packages/twisted/trial/_synctest.py\", line 402, in assertTrue\n",
      "    super().assertTrue(condition, msg)\n",
      "  File \"/opt/anaconda3/lib/python3.12/unittest/case.py\", line 727, in assertTrue\n",
      "    raise self.failureException(msg)\n",
      "twisted.trial.unittest.FailTest: False is not true\n",
      "\n",
      "----------------------------------------------------------------------\n",
      "Ran 3 tests in 0.004s\n",
      "\n",
      "FAILED (failures=1, errors=2)\n"
     ]
    },
    {
     "name": "stdout",
     "output_type": "stream",
     "text": [
      "forward_pass() returned activation a:\n",
      "[0. 0.]\n"
     ]
    }
   ],
   "source": [
    "#### TESTED FUNCTION forward_pass()\n",
    "run_unittests(['test_forward_pass'])\n",
    "\n",
    "w = np.array([1.0, 2.0])\n",
    "b = 2.0\n",
    "x = np.array([[ 1.0,  3.0],\n",
    "              [ 2.0,  4.0],\n",
    "              [-1.0, -3.2]])\n",
    "y =  np.array([1, 0, 1])\n",
    "\n",
    "a = forward_pass(x, w, b)\n",
    "\n",
    "print(\"forward_pass() returned activation a:\")\n",
    "print(a)"
   ]
  },
  {
   "cell_type": "markdown",
   "metadata": {},
   "source": [
    "The exected output is:\n",
    "\n",
    "| Return | Value                              |\n",
    "|--------|------------------------------------|\n",
    "| **a**  | [0.99987661 0.99999386 0.00449627] |\n"
   ]
  },
  {
   "cell_type": "markdown",
   "metadata": {},
   "source": [
    "## Task 2.4: Backward Propagation\n",
    "\n",
    "**Task:** The activations from the current pass of the weights will be passed into your `backward_pass()` fucntion, along with\n",
    "the inputs `x` and the true labels `y`.  In the backward pass you need to calculate the summed average cost using the logit cost function\n",
    "and the summed cost `J` given before.  \n",
    "\n",
    "You also need to calculate the gradient of the cost with respect to the weights `w` and the biases `b`.  The\n",
    "expresions for these gradients (partial derivatives) is:\n",
    "\n",
    "\\begin{equation}\n",
    "\\frac{\\partial J}{\\partial w} = \\frac{1}{m}(a-y) x\n",
    "\\end{equation}\n",
    "\n",
    "\\begin{equation}\n",
    "\\frac{\\partial J}{\\partial b} = \\frac{1}{m} \\sum_{i=1}^m (a^{(i)}-y^{(i)})\n",
    "\\end{equation}\n",
    "\n",
    "Both of these computations can be computed solely using vectorized operations.  Call the first one `dw` the gradients of the cost with\n",
    "respect to the weights `w`.  `a` and `y` are both 1-D vectors with the same number of elements.  For example in our training data we have\n",
    "209 samples, so the expressiion $(a - y)$ represents the errors of the output activiations from the true labels, and there is 1 error for\n",
    "each sample.  For the training inputs `train_x`, its shape recall is `(209, 12288)`.  The result of the matrix multiplication of \n",
    "the errors times the training samples will be of shape `(12288,)`, which represents the gradients for each of the weights `w` that we\n",
    "will use to update the weights.  \n",
    "\n",
    "Likewise for `db` the gradients of the cost function with respect to the bias, you can compute this using vectorized operations (hint\n",
    "the `np.sum()` function).\n",
    "\n",
    "Don't forget to take the average of both `dw` and `db` before returning them.  Your `backward_pass()` function should return the\n",
    "cost and the `dw` and `db` gradients."
   ]
  },
  {
   "cell_type": "code",
   "execution_count": 37,
   "metadata": {},
   "outputs": [
    {
     "name": "stderr",
     "output_type": "stream",
     "text": [
      "test_expected_case (test_assg_tasks.test_backward_pass.test_expected_case)\n",
      "test_expected_case ... ERROR\n",
      "test_input_dim100 (test_assg_tasks.test_backward_pass.test_input_dim100)\n",
      "test_input_dim100 ... ERROR\n",
      "test_input_dim5 (test_assg_tasks.test_backward_pass.test_input_dim5)\n",
      "test_input_dim5 ... FAIL\n",
      "\n",
      "======================================================================\n",
      "ERROR: test_expected_case (test_assg_tasks.test_backward_pass.test_expected_case)\n",
      "test_expected_case\n",
      "----------------------------------------------------------------------\n",
      "Traceback (most recent call last):\n",
      "  File \"/opt/anaconda3/lib/python3.12/site-packages/twisted/internet/defer.py\", line 209, in maybeDeferred\n",
      "    result = f(*args, **kwargs)\n",
      "  File \"/opt/anaconda3/lib/python3.12/site-packages/twisted/internet/utils.py\", line 227, in runWithWarningsSuppressed\n",
      "    raise exc_info[1].with_traceback(exc_info[2])\n",
      "  File \"/opt/anaconda3/lib/python3.12/site-packages/twisted/internet/utils.py\", line 223, in runWithWarningsSuppressed\n",
      "    result = f(*a, **kw)\n",
      "  File \"/Users/ozlemdeveci/Documents/Master/CSCI 560 neural L/Repository/assg02/notebooks/../src/test_assg_tasks.py\", line 247, in test_expected_case\n",
      "    self.assertTrue(np.allclose(a, expected_a))\n",
      "  File \"/opt/anaconda3/lib/python3.12/site-packages/numpy/core/numeric.py\", line 2241, in allclose\n",
      "    res = all(isclose(a, b, rtol=rtol, atol=atol, equal_nan=equal_nan))\n",
      "  File \"/opt/anaconda3/lib/python3.12/site-packages/numpy/core/numeric.py\", line 2351, in isclose\n",
      "    return within_tol(x, y, atol, rtol)\n",
      "  File \"/opt/anaconda3/lib/python3.12/site-packages/numpy/core/numeric.py\", line 2332, in within_tol\n",
      "    return less_equal(abs(x-y), atol + rtol * abs(y))\n",
      "ValueError: operands could not be broadcast together with shapes (2,) (3,) \n",
      "\n",
      "======================================================================\n",
      "ERROR: test_input_dim100 (test_assg_tasks.test_backward_pass.test_input_dim100)\n",
      "test_input_dim100\n",
      "----------------------------------------------------------------------\n",
      "Traceback (most recent call last):\n",
      "  File \"/opt/anaconda3/lib/python3.12/site-packages/twisted/internet/defer.py\", line 209, in maybeDeferred\n",
      "    result = f(*args, **kwargs)\n",
      "  File \"/opt/anaconda3/lib/python3.12/site-packages/twisted/internet/utils.py\", line 227, in runWithWarningsSuppressed\n",
      "    raise exc_info[1].with_traceback(exc_info[2])\n",
      "  File \"/opt/anaconda3/lib/python3.12/site-packages/twisted/internet/utils.py\", line 223, in runWithWarningsSuppressed\n",
      "    result = f(*a, **kw)\n",
      "  File \"/Users/ozlemdeveci/Documents/Master/CSCI 560 neural L/Repository/assg02/notebooks/../src/test_assg_tasks.py\", line 211, in test_input_dim100\n",
      "    self.assertTrue(np.allclose(a, expected_a))\n",
      "  File \"/opt/anaconda3/lib/python3.12/site-packages/numpy/core/numeric.py\", line 2241, in allclose\n",
      "    res = all(isclose(a, b, rtol=rtol, atol=atol, equal_nan=equal_nan))\n",
      "  File \"/opt/anaconda3/lib/python3.12/site-packages/numpy/core/numeric.py\", line 2351, in isclose\n",
      "    return within_tol(x, y, atol, rtol)\n",
      "  File \"/opt/anaconda3/lib/python3.12/site-packages/numpy/core/numeric.py\", line 2332, in within_tol\n",
      "    return less_equal(abs(x-y), atol + rtol * abs(y))\n",
      "ValueError: operands could not be broadcast together with shapes (2,) (5,) \n",
      "\n",
      "======================================================================\n",
      "FAIL: test_input_dim5 (test_assg_tasks.test_backward_pass.test_input_dim5)\n",
      "test_input_dim5\n",
      "----------------------------------------------------------------------\n",
      "Traceback (most recent call last):\n",
      "  File \"/opt/anaconda3/lib/python3.12/site-packages/twisted/internet/defer.py\", line 209, in maybeDeferred\n",
      "    result = f(*args, **kwargs)\n",
      "  File \"/opt/anaconda3/lib/python3.12/site-packages/twisted/internet/utils.py\", line 227, in runWithWarningsSuppressed\n",
      "    raise exc_info[1].with_traceback(exc_info[2])\n",
      "  File \"/opt/anaconda3/lib/python3.12/site-packages/twisted/internet/utils.py\", line 223, in runWithWarningsSuppressed\n",
      "    result = f(*a, **kw)\n",
      "  File \"/Users/ozlemdeveci/Documents/Master/CSCI 560 neural L/Repository/assg02/notebooks/../src/test_assg_tasks.py\", line 198, in test_input_dim5\n",
      "    self.assertTrue(np.allclose(a, expected_a))\n",
      "  File \"/opt/anaconda3/lib/python3.12/site-packages/twisted/trial/_synctest.py\", line 402, in assertTrue\n",
      "    super().assertTrue(condition, msg)\n",
      "  File \"/opt/anaconda3/lib/python3.12/unittest/case.py\", line 727, in assertTrue\n",
      "    raise self.failureException(msg)\n",
      "twisted.trial.unittest.FailTest: False is not true\n",
      "\n",
      "----------------------------------------------------------------------\n",
      "Ran 3 tests in 0.005s\n",
      "\n",
      "FAILED (failures=1, errors=2)\n"
     ]
    },
    {
     "name": "stdout",
     "output_type": "stream",
     "text": [
      "backward_pass() returned activation cost: 0.0\n",
      "backward_pass() returned dw:\n",
      "[0. 0.]\n",
      "backward_pass() returned db: 0.0\n"
     ]
    }
   ],
   "source": [
    "#### TESTED FUNCTION backward_pass()\n",
    "run_unittests(['test_backward_pass'])\n",
    "\n",
    "w = np.array([1.0, 2.0])\n",
    "b = 2.0\n",
    "x = np.array([[ 1.0,  3.0],\n",
    "              [ 2.0,  4.0],\n",
    "              [-1.0, -3.2]])\n",
    "y =  np.array([1, 0, 1])\n",
    "\n",
    "a = forward_pass(x, w, b)\n",
    "cost, dw, db = backward_pass(x, y, a)\n",
    "\n",
    "print(\"backward_pass() returned activation cost:\", cost)\n",
    "print(\"backward_pass() returned dw:\")\n",
    "print(dw)\n",
    "print(\"backward_pass() returned db:\", db)"
   ]
  },
  {
   "cell_type": "markdown",
   "metadata": {},
   "source": [
    "The exected output is:\n",
    "\n",
    "| Return   | Value                   |\n",
    "|----------|-------------------------|\n",
    "| **cost** | 5.801545319394553       |\n",
    "| **dw**   | [0.99845601 2.39507239] |\n",
    "| **db**   | 0.001455578136784208    |"
   ]
  },
  {
   "cell_type": "markdown",
   "metadata": {},
   "source": [
    "## Task 2.5: Gradient Descent Optimization\n",
    "\n",
    "You now hae all of the pieces you need in order to write an `optimize()` function in order to implement\n",
    "gradient descent optimzation.\n",
    "\n",
    "- You have a function that will initialize you weight and bias parameters to 0.\n",
    "- You can compute the activations / predictions from the forward pass for a set of input\n",
    "- You can compute the cost and the gradients with respect to your learnable parameters\n",
    "\n",
    "Now you want to update the parameters in a loop using gradient descent.  The update rule is\n",
    "that \n",
    "\n",
    "`w = w - lr * dw`\n",
    "\n",
    "`b = b - lr * db`\n",
    "\n",
    "after each forward pass.  \n",
    "\n",
    "**Task** Write a function named `optimize()`.  This function takes `x` and `y` inputs and labels, as well as initial `w` and `b`\n",
    "learnable parameters as required parameters.  In addition the `num_iterations` of gradient descent to perform, the `learning_rate`\n",
    "to use for weight updates and a `print_cost` flag will be passed into this function with useful default values.  If `print_cost` is\n",
    "true, then every 100th iteration print out the current cost like this:\n",
    "\n",
    "```python\n",
    "print(\"Cost after iteration %i: %f\" % (itr, cost))\n",
    "```\n",
    "\n",
    "You should use a single loop in this funciton that iterates the `num_iterations` indicated as an input arguments (this is the first\n",
    "time you should have been using an explicit loop in your code in this assignment)).  Perform a forward and backward\n",
    "pass to get the activations/predictions, cost and dw and db gradients.  After the forward and backward pass, update\n",
    "the weights and biases based on the gradients, using the learning rate argument to scale the amount of update.  The function\n",
    "will return the final `w` and `b` trainable parameters at the end of the optimization.  Also create a regular python\n",
    "list to hold the costs, and save and return the cost after each iteration as the third parameter from this function."
   ]
  },
  {
   "cell_type": "code",
   "execution_count": 40,
   "metadata": {},
   "outputs": [
    {
     "name": "stderr",
     "output_type": "stream",
     "text": [
      "test_expected_case (test_assg_tasks.test_optimize.test_expected_case)\n",
      "test_expected_case ... FAIL\n",
      "\n",
      "======================================================================\n",
      "FAIL: test_expected_case (test_assg_tasks.test_optimize.test_expected_case)\n",
      "test_expected_case\n",
      "----------------------------------------------------------------------\n",
      "Traceback (most recent call last):\n",
      "  File \"/opt/anaconda3/lib/python3.12/site-packages/twisted/internet/defer.py\", line 209, in maybeDeferred\n",
      "    result = f(*args, **kwargs)\n",
      "  File \"/opt/anaconda3/lib/python3.12/site-packages/twisted/internet/utils.py\", line 227, in runWithWarningsSuppressed\n",
      "    raise exc_info[1].with_traceback(exc_info[2])\n",
      "  File \"/opt/anaconda3/lib/python3.12/site-packages/twisted/internet/utils.py\", line 223, in runWithWarningsSuppressed\n",
      "    result = f(*a, **kw)\n",
      "  File \"/Users/ozlemdeveci/Documents/Master/CSCI 560 neural L/Repository/assg02/notebooks/../src/test_assg_tasks.py\", line 272, in test_expected_case\n",
      "    self.assertTrue(np.allclose(w, expected_w))\n",
      "  File \"/opt/anaconda3/lib/python3.12/site-packages/twisted/trial/_synctest.py\", line 402, in assertTrue\n",
      "    super().assertTrue(condition, msg)\n",
      "  File \"/opt/anaconda3/lib/python3.12/unittest/case.py\", line 727, in assertTrue\n",
      "    raise self.failureException(msg)\n",
      "twisted.trial.unittest.FailTest: False is not true\n",
      "\n",
      "----------------------------------------------------------------------\n",
      "Ran 1 test in 0.002s\n",
      "\n",
      "FAILED (failures=1)\n"
     ]
    },
    {
     "name": "stdout",
     "output_type": "stream",
     "text": [
      "final w:\n",
      "[0. 0.]\n",
      "final b: 0.000000\n",
      "final cost: 0.000000\n"
     ]
    }
   ],
   "source": [
    "#### TESTED FUNCTION backward_pass()\n",
    "run_unittests(['test_optimize'])\n",
    "\n",
    "w = np.array([1.0, 2.0])\n",
    "b = 2.0\n",
    "x = np.array([[ 1.0,  3.0],\n",
    "              [ 2.0,  4.0],\n",
    "              [-1.0, -3.2]])\n",
    "y =  np.array([1, 0, 1])\n",
    "\n",
    "w, b, costs = optimize(x, y, w, b, num_iterations=100, learning_rate=0.009, print_cost=False)\n",
    "print(\"final w:\")\n",
    "print(w)\n",
    "print(\"final b: %f\" % b)\n",
    "print(\"final cost: %f\" % costs[99])"
   ]
  },
  {
   "cell_type": "markdown",
   "metadata": {},
   "source": [
    "The expected values from this optimization are:\n",
    "\n",
    "| Return   | Value                     |\n",
    "|----------|---------------------------|\n",
    "| w        | [0.19033591 0.12259159] ] |\n",
    "| b        | 1.925360                  |\n",
    "| cost[99] | 1.078431                  |\n",
    "\n",
    "**Task**: Also as another final sanity check, since you are performing full batch gradient descen here, the\n",
    "costs for every step should be steadily decreasing, from a starting value of 5.80 down to the final cost\n",
    "of 1.07.  Plot the cost history as a function of iterations 0-99 to show that cost does indeed\n",
    "steadily decress for this test."
   ]
  },
  {
   "cell_type": "code",
   "execution_count": 42,
   "metadata": {},
   "outputs": [],
   "source": [
    "### Plot the history of the cost as a function of the iterations"
   ]
  },
  {
   "cell_type": "markdown",
   "metadata": {},
   "source": [
    "## Task 2.6 Model Prediction\n",
    "\n",
    "**Task**: The result of the optimization is a set of trained parameters `w` and `b` that can be used\n",
    "to make predictions for unseen samples.  The output from the forward pass, the activations `a`, \n",
    "since it is passed through your `sigmoid()` function, will be a value between 0 and 1.  \n",
    "\n",
    "You can calculate predictions for a new set of inputs `x` by first reusing your forward pass\n",
    "to get the output activations.  Then you would normally use a threshold value of 0.5, \n",
    "and predict a 0 for all $a <= 0.5$ and predict 1 for all $a > 0.5$.\n",
    "\n",
    "Write a function named `predict()` that takes some (maybe new) inputs `x` and some\n",
    "trained `w` and `b` parameters, and returns predictions using a threshold of 0.5.\n",
    "The result returned are the `y_pred`, which will be a 1-D vector of shape `(numsamples,`)\n",
    "with all 0.0 and 1.0 values.  This function should be vectorized, do not use any loops\n",
    "in your implementation."
   ]
  },
  {
   "cell_type": "code",
   "execution_count": 44,
   "metadata": {},
   "outputs": [
    {
     "name": "stderr",
     "output_type": "stream",
     "text": [
      "test_expected_case (test_assg_tasks.test_predict.test_expected_case)\n",
      "test_expected_case ... ERROR\n",
      "\n",
      "======================================================================\n",
      "ERROR: test_expected_case (test_assg_tasks.test_predict.test_expected_case)\n",
      "test_expected_case\n",
      "----------------------------------------------------------------------\n",
      "Traceback (most recent call last):\n",
      "  File \"/opt/anaconda3/lib/python3.12/site-packages/twisted/internet/defer.py\", line 209, in maybeDeferred\n",
      "    result = f(*args, **kwargs)\n",
      "  File \"/opt/anaconda3/lib/python3.12/site-packages/twisted/internet/utils.py\", line 227, in runWithWarningsSuppressed\n",
      "    raise exc_info[1].with_traceback(exc_info[2])\n",
      "  File \"/opt/anaconda3/lib/python3.12/site-packages/twisted/internet/utils.py\", line 223, in runWithWarningsSuppressed\n",
      "    result = f(*a, **kw)\n",
      "  File \"/Users/ozlemdeveci/Documents/Master/CSCI 560 neural L/Repository/assg02/notebooks/../src/test_assg_tasks.py\", line 295, in test_expected_case\n",
      "    self.assertTrue(np.allclose(y_pred, expected_y_pred))\n",
      "  File \"/opt/anaconda3/lib/python3.12/site-packages/numpy/core/numeric.py\", line 2241, in allclose\n",
      "    res = all(isclose(a, b, rtol=rtol, atol=atol, equal_nan=equal_nan))\n",
      "  File \"/opt/anaconda3/lib/python3.12/site-packages/numpy/core/numeric.py\", line 2351, in isclose\n",
      "    return within_tol(x, y, atol, rtol)\n",
      "  File \"/opt/anaconda3/lib/python3.12/site-packages/numpy/core/numeric.py\", line 2332, in within_tol\n",
      "    return less_equal(abs(x-y), atol + rtol * abs(y))\n",
      "ValueError: operands could not be broadcast together with shapes (2,) (3,) \n",
      "\n",
      "----------------------------------------------------------------------\n",
      "Ran 1 test in 0.002s\n",
      "\n",
      "FAILED (errors=1)\n"
     ]
    },
    {
     "name": "stdout",
     "output_type": "stream",
     "text": [
      "Predictions:\n",
      "[0. 0.]\n"
     ]
    }
   ],
   "source": [
    "#### TESTED FUNCTION backward_pass()\n",
    "run_unittests(['test_predict'])\n",
    "\n",
    "w = np.array([0.1124579, 0.23106775])\n",
    "b = -0.3\n",
    "x = np.array([[ 1.0, 1.2],\n",
    "              [-1.1, 2.0],\n",
    "              [-3.2, 0.1]])\n",
    "y_pred = predict(x, w, b)\n",
    "\n",
    "print(\"Predictions:\")\n",
    "print(y_pred)"
   ]
  },
  {
   "cell_type": "markdown",
   "metadata": {},
   "source": [
    "The expected output for the predictions is:\n",
    "\n",
    "| Return | Value      |\n",
    "|--------|------------|\n",
    "| y_pred | [1. 1. 0.] |"
   ]
  },
  {
   "cell_type": "markdown",
   "metadata": {},
   "source": [
    "<font color='blue'>\n",
    "    \n",
    "**What to remember:**\n",
    "\n",
    "You've implemented several functions that:\n",
    "- Initialize (`w`, `b`) the trainable parameters of this \"network\".\n",
    "- Optimize the loss iteratively to learn parameters (`w`, `b`):\n",
    "    - computing the cost and its gradient \n",
    "    - updating the parameters using gradient descent\n",
    "- Use the learned (`w`, `b`) to predict the labels for a given set of examples"
   ]
  },
  {
   "cell_type": "markdown",
   "metadata": {},
   "source": [
    "# Task 3: Train Model on Cat/Non-Cat Binary Classification and Evaluate\n",
    "\n",
    "## Task 3.1: Train model on Train Data\n",
    "\n",
    "**Task**: You should have datasets named `train_x` with its labels `train_y` for the cat / non-cat images.  Use the functions\n",
    "you have created to perform the following:\n",
    "\n",
    "1. Initialize a set of `w` and `b` trainable parameters of suitable dimension for the cat / non-cat binary classification.\n",
    "2. Optimize the weights for 2000 iterations with a learning rate of 0.005.\n",
    "3. Plot the cost history of your optimization history to see / confirm that cost steadily decreases during optimization."
   ]
  },
  {
   "cell_type": "code",
   "execution_count": 48,
   "metadata": {},
   "outputs": [],
   "source": [
    "### 1. initialize parameters\n"
   ]
  },
  {
   "cell_type": "code",
   "execution_count": 49,
   "metadata": {},
   "outputs": [],
   "source": [
    "### 2. optimize weights using gradient descent\n"
   ]
  },
  {
   "cell_type": "code",
   "execution_count": 50,
   "metadata": {},
   "outputs": [],
   "source": [
    "### 3. plot the cost history of the optimization\n"
   ]
  },
  {
   "cell_type": "markdown",
   "metadata": {},
   "source": [
    "**Expected Results**\n",
    "\n",
    "You may notice that the first 200 iterations or so there is some oscillations of the cost, it doesn't strictly decrease.\n",
    "If you play around with the learning rate, you may discover that larger values can cause division by 0 errors.  This is\n",
    "because the value of $\\log(a)$ is not defined whean $a = 0$.  A common solution is to add a small constant `epsilon`\n",
    "(usualy around $10^{-6}$) to `a` and `1 - a` to ensure the value is at least a little bit above 0.  If you did this you might\n",
    "not pass the tests for the assignemnt anymore.  But this also allows for larger learning rates, which may eventually\n",
    "case the optimization to diverge.\n",
    "\n",
    "You should find the following costs for iteration 0 and iteration 1999 if you use the asked for learning rate and all\n",
    "of your functions are working as specified:\n",
    "\n",
    "| cost        |              Value |\n",
    "|-------------|--------------------|\n",
    "| costs[0]    | 0.6931471805599453 |\n",
    "| costs[1999] | 0.1356588474393696 |"
   ]
  },
  {
   "cell_type": "markdown",
   "metadata": {},
   "source": [
    "## Task 3.2: Evaluate model on the data it was trained with\n",
    "\n",
    "**Task**: Lets first check what accuracy the trained model achieves on the same data we used to train it.\n",
    "Use your `predict()` method to get predictions on the data that it was just trained with.\n",
    "You should now have the predictions and the true labeles are in `train_y`.  Calculate\n",
    "the overall accuracy and report it.  Again you should figure out a vectorized way to do this,\n",
    "for example the difference of the true labels and the predictions will be 0 when the\n",
    "model is correct, and 1 or -1 when it is in error.  If you take the absolute value, then the sum\n",
    "of the 1's is the number of incorrect predictions, though we want accuracy as a percentage here, the\n",
    "percentage that the model predicts correctly."
   ]
  },
  {
   "cell_type": "code",
   "execution_count": 53,
   "metadata": {},
   "outputs": [],
   "source": [
    "### determine model accuracy on the training data\n"
   ]
  },
  {
   "cell_type": "markdown",
   "metadata": {},
   "source": [
    "**Expected Result**\n",
    "\n",
    "You should find that you get over 99% accuracy (actually almost 100, should only miss-classify two images).\n",
    "This is a good sanity check: your model is working and has high enough capacity to fit the training data.\n",
    "However, is that really an accurate assessment of how well this small binary classifier can do on data it has\n",
    "not seen before?"
   ]
  },
  {
   "cell_type": "markdown",
   "metadata": {},
   "source": [
    "## Task 3.3: Evaluate model on the test data\n",
    "\n",
    "**Task**: Finally, evaluate the model on the test dataset and report the test accuracy of your current model.  Be careful to use both the\n",
    "`test_x` for the inputs into your predictions and the `test_y` to calculate the errors and final accuracy."
   ]
  },
  {
   "cell_type": "code",
   "execution_count": 56,
   "metadata": {},
   "outputs": [],
   "source": [
    "### determine model accuracy on the test data\n"
   ]
  },
  {
   "cell_type": "markdown",
   "metadata": {},
   "source": [
    "**Expected Result**\n",
    "\n",
    "You should find that accuracy drops to only 70% on the test data.  This is actually not bad for this simple model, given the small\n",
    "dataset you used and that logistic regression is a linear classifier. But no worries, you'll build an even better classifier next week!\n",
    "\n",
    "Also, you see that the model is clearly overfitting the training data. Later in this class you will learn how to reduce overfitting,\n",
    "for example by using regularization.\n",
    "\n",
    "Congratulations, that is the end of this assignment.  Hopefully you have been making a commit and pushing it up to your repository\n",
    "after you finished each subtask, though we did not remind you about that this time."
   ]
  },
  {
   "cell_type": "markdown",
   "metadata": {},
   "source": [
    "<font color='blue'>\n",
    "    \n",
    "**What to remember from this assignment:**\n",
    "\n",
    "1. Preprocessing the dataset is important.\n",
    "2. You implemented each function separately: `initialize()`, `forward_pass()`, `backward_pass()`, `optimize()`.\n",
    "3. These functions should work generically for any similar data, where the number of samples can vary, and the number of features\n",
    "   can vary as well.\n",
    "4. Training a specific set of trainable parameters `w` and `b` on a model can then be used to evalute performance on unseen\n",
    "   test data.\n",
    "5. Tuning the learning rate (which is an example of a \"hyperparameter\") can make a big difference to the algorithm.\n",
    "   You will see more examples of this later in this course!"
   ]
  }
 ],
 "metadata": {
  "kernelspec": {
   "display_name": "Python [conda env:base] *",
   "language": "python",
   "name": "conda-base-py"
  },
  "language_info": {
   "codemirror_mode": {
    "name": "ipython",
    "version": 3
   },
   "file_extension": ".py",
   "mimetype": "text/x-python",
   "name": "python",
   "nbconvert_exporter": "python",
   "pygments_lexer": "ipython3",
   "version": "3.12.7"
  },
  "latex_envs": {
   "LaTeX_envs_menu_present": true,
   "autoclose": true,
   "autocomplete": true,
   "bibliofile": "biblio.bib",
   "cite_by": "apalike",
   "current_citInitial": 1,
   "eqLabelWithNumbers": true,
   "eqNumInitial": 1,
   "hotkeys": {
    "equation": "Ctrl-E",
    "itemize": "Ctrl-I"
   },
   "labels_anchors": false,
   "latex_user_defs": false,
   "report_style_numbering": false,
   "user_envs_cfg": false
  },
  "toc": {
   "base_numbering": 1,
   "nav_menu": {},
   "number_sections": true,
   "sideBar": true,
   "skip_h1_title": false,
   "title_cell": "Table of Contents",
   "title_sidebar": "Contents",
   "toc_cell": false,
   "toc_position": {},
   "toc_section_display": true,
   "toc_window_display": false
  },
  "varInspector": {
   "cols": {
    "lenName": 16,
    "lenType": 16,
    "lenVar": 40
   },
   "kernels_config": {
    "python": {
     "delete_cmd_postfix": "",
     "delete_cmd_prefix": "del ",
     "library": "var_list.py",
     "varRefreshCmd": "print(var_dic_list())"
    },
    "r": {
     "delete_cmd_postfix": ") ",
     "delete_cmd_prefix": "rm(",
     "library": "var_list.r",
     "varRefreshCmd": "cat(var_dic_list()) "
    }
   },
   "types_to_exclude": [
    "module",
    "function",
    "builtin_function_or_method",
    "instance",
    "_Feature"
   ],
   "window_display": false
  }
 },
 "nbformat": 4,
 "nbformat_minor": 4
}
